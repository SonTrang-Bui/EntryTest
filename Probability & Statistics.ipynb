{
 "cells": [
  {
   "cell_type": "markdown",
   "id": "d4c73157",
   "metadata": {},
   "source": [
    "# Probability & Statistics"
   ]
  },
  {
   "cell_type": "markdown",
   "id": "adce52a9",
   "metadata": {},
   "source": [
    "## 1. The probability of passing three candidates A, B, and C in one interview is 60%, 10%, and 20% respectively. Find the probability of success of at least two."
   ]
  },
  {
   "cell_type": "markdown",
   "id": "85573244",
   "metadata": {},
   "source": [
    "Case 1: Only A and B pass the interview"
   ]
  },
  {
   "cell_type": "markdown",
   "id": "a49a5b18",
   "metadata": {},
   "source": [
    "P(A and B) = P(A) x P(B) x ~P(C) = 0.6 x 0.1 x 0.8 = 0.048"
   ]
  },
  {
   "cell_type": "markdown",
   "id": "b5c02e88",
   "metadata": {},
   "source": [
    "Case 2: Only B and C pass the interview"
   ]
  },
  {
   "cell_type": "markdown",
   "id": "b36fb7dd",
   "metadata": {},
   "source": [
    "P(B and C) = ~P(A) x P(B) x P(C) = 0.4 x 0.1 x 0.2 = 0.008"
   ]
  },
  {
   "cell_type": "markdown",
   "id": "9145ff82",
   "metadata": {},
   "source": [
    "Case 3: Only C and A pass the interview"
   ]
  },
  {
   "cell_type": "markdown",
   "id": "8a1f0e84",
   "metadata": {},
   "source": [
    "P(C and A) = P(A) x ~P(B) x P(C) = 0.6 x 0.9 x 0.2 = 0.108"
   ]
  },
  {
   "cell_type": "markdown",
   "id": "8b8e2455",
   "metadata": {},
   "source": [
    "Case 4: A, B, and C pass the interview"
   ]
  },
  {
   "cell_type": "markdown",
   "id": "6cf3edd0",
   "metadata": {},
   "source": [
    "P(A, B, and C) = P(A) x P(B) x P(C) = 0.6 x 0.1 x 0.2 = 0.012"
   ]
  },
  {
   "cell_type": "markdown",
   "id": "d3ca8659",
   "metadata": {},
   "source": [
    "Total Probability = 0.048 + 0.008 + 0.108 + 0.012 = 0.176"
   ]
  },
  {
   "cell_type": "markdown",
   "id": "12e0be56",
   "metadata": {},
   "source": [
    "## 2. Nine cards are drawn from a deck of 52 cards. What is the probability that 5 cards are diamonds and 2 are hearts and 2 are kings?"
   ]
  },
  {
   "cell_type": "markdown",
   "id": "65c9980c",
   "metadata": {},
   "source": [
    "Chances of picking 9 cards out of 52: 52C9 = 3679075400"
   ]
  },
  {
   "cell_type": "markdown",
   "id": "be375bc1",
   "metadata": {},
   "source": [
    "Total chances of 2 kings being heart and diamond: 12C4 x 12C1 x 24C2 = 1639440\n",
    "* 12C4: The chances of picking up 4 diamond cards from total 12 diamond cards excluding Diamond King\n",
    "* 12C1: The chances of picking up 1 heart card from total 12 heart cards excluding Heart King\n",
    "* 24C2: The chances of picking up the remaining 2 cards that are not diamond, heart, and king"
   ]
  },
  {
   "cell_type": "markdown",
   "id": "dc57187a",
   "metadata": {},
   "source": [
    "Total chances of 1 king being diamond: 12C4 x 12C2 x 2C1 x 24C1 = 1568160\n",
    "* 12C4: The chances of picking up 4 diamond cards from total 12 diamond cards excluding Diamond King\n",
    "* 12C2: The chances of picking up 2 heart cards from total 12 heart cards excluding Heart King\n",
    "* 2C1: The chances of picking up 1 king card from total 2 king cards excluding Diamond and Heart King\n",
    "* 24C1: The chances of picking up the remaining 1 card that are not diamond, heart, and king"
   ]
  },
  {
   "cell_type": "markdown",
   "id": "67726655",
   "metadata": {},
   "source": [
    "Total chances of 1 king being heart: 12C5 x 12C1 x 2C1 x 24C1 = 456192\n",
    "* 12C5: The chances of picking up 5 diamond cards from total 12 diamond cards excluding Diamond King\n",
    "* 12C1: The chances of picking up 1 heart card from total 12 heart cards excluding Heart King\n",
    "* 2C1: The chances of picking up 1 king card from total 2 king cards excluding Diamond and Heart King\n",
    "* 24C1: The chances of picking up the remaining 1 card that are not diamond, heart, and king"
   ]
  },
  {
   "cell_type": "markdown",
   "id": "105bb558",
   "metadata": {},
   "source": [
    "Total chances of 2 kings not among heart or diamond: 12C5 x 12C2 x 2C2 = 52272\n",
    "* 12C5: The chances of picking up 5 diamond cards from total 12 diamond cards excluding Diamond King\n",
    "* 12C2: The chances of picking up 2 heart cards from total 12 heart cards excluding Heart King\n",
    "* 2C2: The chances of picking up 2 king cards from total 2 king cards excluding Diamond and Heart King"
   ]
  },
  {
   "cell_type": "markdown",
   "id": "4744ee80",
   "metadata": {},
   "source": [
    "Total chances of picking up 9 cards that satisfy the requirement = 3716064"
   ]
  },
  {
   "cell_type": "markdown",
   "id": "d1374505",
   "metadata": {},
   "source": [
    "Probability = 3716064 / 3679075400 = 0.00101"
   ]
  },
  {
   "cell_type": "markdown",
   "id": "00c5e619",
   "metadata": {},
   "source": [
    "##  3. There are transactions from banks A, B, and C at your company. About 30% of the population comes from A, 20% from B, and 50% from C. Knowing that there is a chance of fraud in the transaction history. The percentages for banks A, B, and C are 3%, 5%, and 4%, respectively. Which bank will most likely belong in the event of fraud detection?"
   ]
  },
  {
   "cell_type": "markdown",
   "id": "a3df7d1e",
   "metadata": {},
   "source": [
    "The probability of the population given as:\n",
    "* P(A) = 0.3\n",
    "* P(B) = 0.2\n",
    "* P(C) = 0.5"
   ]
  },
  {
   "cell_type": "markdown",
   "id": "2a3ab42c",
   "metadata": {},
   "source": [
    "The probability of fraud given the bank is:\n",
    "* P(Fraud | A) = 0.03\n",
    "* P(Fraud | B) = 0.05\n",
    "* P(Fraud | C) = 0.04"
   ]
  },
  {
   "cell_type": "markdown",
   "id": "60506c9a",
   "metadata": {},
   "source": [
    "From the given information, we can conclude that:\n",
    "* P(Fraud and A) = 0.03 x 0.3 = 0.009\n",
    "* P(Fraud and B) = 0.05 x 0.2 = 0.01\n",
    "* P(Fraud and C) = 0.04 x 0.5 = 0.02"
   ]
  },
  {
   "cell_type": "markdown",
   "id": "91892db4",
   "metadata": {},
   "source": [
    "So, P(Fraud) = 0.009 + 0.01 + 0.02 = 0.039"
   ]
  },
  {
   "cell_type": "markdown",
   "id": "323abf36",
   "metadata": {},
   "source": [
    "Therefore, we have:\n",
    "* P(A | Fraud) = P(A and Fraud) / P(Fraud) = 0.009 / 0.039 = 0.231\n",
    "* P(B | Fraud) = P(B and Fraud) / P(Fraud) = 0.01 / 0.039 = 0.256\n",
    "* P(C | Fraud) = P(C and Fraud) / P(Fraud) = 0.02 / 0.039 = 0.513"
   ]
  },
  {
   "cell_type": "markdown",
   "id": "04470ab1",
   "metadata": {},
   "source": [
    "So, in case of a fraud detection, there is a high possibility that the fraud belongs to bank C."
   ]
  },
  {
   "cell_type": "markdown",
   "id": "5115999d",
   "metadata": {},
   "source": [
    "## 4. Assume that the transaction amount in Service X in your company follows the Normal distribution with mean µ. A random sample of 25 transactions yielded an average amount of 𝑥 ̅= 525 000 VND, and the standard deviation of the 25 transactions is found to be s = 28 340. A 90% confidence interval for µ is (Hint: The t critical value for 90% CI for Degrees of freedom = 24 is 1.711)"
   ]
  },
  {
   "attachments": {
    "image.png": {
     "image/png": "[encoded data removed]"
    }
   },
   "cell_type": "markdown",
   "id": "7d2afcd3",
   "metadata": {},
   "source": [
    "Consider a sample of size n for which the sample mean x has been calculated. If s is the sample standard deviation, a 90% confidence interval around the sample mean is given by: ![image.png](attachment:image.png)"
   ]
  },
  {
   "cell_type": "markdown",
   "id": "6ad339cb",
   "metadata": {},
   "source": [
    "Lower bound: 525000 – 1.711 x 28340 / 5 = 515,302.052 VND"
   ]
  },
  {
   "cell_type": "markdown",
   "id": "967a3214",
   "metadata": {},
   "source": [
    "Upper bound: 525000 + 1.711 x 28340 / 5 = 534,697.948 VND"
   ]
  }
 ],
 "metadata": {
  "kernelspec": {
   "display_name": "Python 3 (ipykernel)",
   "language": "python",
   "name": "python3"
  },
  "language_info": {
   "codemirror_mode": {
    "name": "ipython",
    "version": 3
   },
   "file_extension": ".py",
   "mimetype": "text/x-python",
   "name": "python",
   "nbconvert_exporter": "python",
   "pygments_lexer": "ipython3",
   "version": "3.9.18"
  }
 },
 "nbformat": 4,
 "nbformat_minor": 5
}
