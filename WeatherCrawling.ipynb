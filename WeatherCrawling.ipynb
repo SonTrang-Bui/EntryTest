{
 "cells": [
  {
   "cell_type": "markdown",
   "id": "2010c962",
   "metadata": {},
   "source": [
    "# Delivery of Weather History using Web Crawl in Python"
   ]
  },
  {
   "cell_type": "markdown",
   "id": "8511dd6f",
   "metadata": {},
   "source": [
    "The purpose of this notebook is to attain the hourly weather history of 2 days ago from the current moment of all possible districts in 2 cities, Hanoi and Ho Chi Minh City, Vietnam. The data API can be found on Visual Crossing Weather:  https://www.visualcrossing.com/."
   ]
  },
  {
   "cell_type": "markdown",
   "id": "a684995f",
   "metadata": {},
   "source": [
    "Essential libraries are imported to get the needed data from the API. requests is used to handle HTTP GET requests. datetime and timedelta are utilized to calculate time-related information, and pandas is only for the purpose of visualizing the dataframe. "
   ]
  },
  {
   "cell_type": "code",
   "execution_count": 1,
   "id": "7440494c",
   "metadata": {},
   "outputs": [],
   "source": [
    "import requests\n",
    "from datetime import datetime, timedelta\n",
    "import pandas as pd\n",
    "import os"
   ]
  },
  {
   "cell_type": "markdown",
   "id": "0cd3eace",
   "metadata": {},
   "source": [
    "The website allows the creation of free account, which is sufficient within the scope of this project. Each account is provided with an unique API key to access the data. To protect privacy, the exact key is hidden."
   ]
  },
  {
   "cell_type": "markdown",
   "id": "1ce3121d",
   "metadata": {},
   "source": [
    "Cities is a dictionary of all districts in one city. As the addresses of Visual Crossing Weather don't follow a conformable pattern, the districts were manually detailed."
   ]
  },
  {
   "cell_type": "code",
   "execution_count": 3,
   "id": "107e536e",
   "metadata": {},
   "outputs": [],
   "source": [
    "API_KEY = os.environ[\"WEATHER_API\"]\n",
    "\n",
    "# Define the cities and their districts\n",
    "cities = {\n",
    "    \"Ho Chi Minh City\": [\"Quan 1\", \"Quan 2\", \"Quan 3\", \"Quan 4\", \"Quan 5\", \"Quan 6\", \"Quan 7\", \"Quan 8\", \"Quan 9\", \"Quan 10\", \"Quan 11\", \"Quan 12\", \"Quan Thu Duc\", \"Quan Tan Binh\", \"Quan Binh Tan\", \"Quan Binh Thanh\", \"Quan Tan Phu\", \"Quan Go Vap\", \"Quan Phu Nhuan\", \"Huyen Binh Chanh\", \"Huyen Hoc Mon\", \"Huyen Can Gio\", \"Huyen Cu Chi\", \"Huyen Nha Be\"],\n",
    "    \"Hanoi\": [\"Quan Hoan Kiem\", \"Quan Dong Da\", \"Quan Ba Dinh\", \"Quan Hai Ba Trung\", \"Quan Hoang Mai\", \"Quan Thanh Xuan\", \"Quan Long Bien\", \"Quan Nam Tu Liem\", \"Quan Bac Tu Liem\", \"Quan Tay Ho\", \"Quan Cau Giay\", \"Quan Ha Đong\", \"Thi xa Son Tay\", \"Huyen Ba Vi\", \"Huyen Chuong My\", \"Huyen Phuc Tho\", \"Huyen Dan Phuong\", \"Huyen Dong Anh\", \"Huyenn Gia Lam\", \"Huyen Hoai Duc\", \"Huyen Me Linh\", \"Huyen My Duc\", \"Huyen Phu Xuyen\", \"Huyen Quoc Oai\", \"Huyen Soc Son\", \"Huyen Thach That\", \"Huyen Thanh Oai\", \"Huyen Thuong Tin\", \"Huyen Ung Hoa\", \"Huyen Thanh Tri\"]\n",
    "}\n",
    "\n",
    "# Calculate the date two days ago\n",
    "two_days_ago = (datetime.now() - timedelta(days=2)).strftime(\"%Y-%m-%d\")"
   ]
  },
  {
   "cell_type": "markdown",
   "id": "c9922ce7",
   "metadata": {},
   "source": [
    "get_weather_data is a function that get the weather history for each district in each city. The weather elements are listed in parameter \"elements\" to get only important features. The unit group is defined as \"metric\" to acquire the data in International System of Units."
   ]
  },
  {
   "cell_type": "markdown",
   "id": "a25f65cc",
   "metadata": {},
   "source": [
    "To avoid error 429 (too many requests) or DDoS, Multiple Location Timeline Weather API can be used. However, due to limit in time, this possibility wasn't implemented and tested properly."
   ]
  },
  {
   "cell_type": "code",
   "execution_count": 4,
   "id": "f0ee83ee",
   "metadata": {},
   "outputs": [],
   "source": [
    "def get_weather_data(city, district):\n",
    "    base_url = \"https://weather.visualcrossing.com/VisualCrossingWebServices/rest/services/timeline\"\n",
    "    \n",
    "    # Construct the full address\n",
    "    address = f\"{district}, {city}, Vietnam\"\n",
    "    \n",
    "    params = {\n",
    "        \"unitGroup\": \"metric\",\n",
    "        \"key\": API_KEY,\n",
    "        \"contentType\": \"json\",\n",
    "        \"include\": \"hours\",\n",
    "        \"elements\": \"datetime,temp,humidity,precip,windspeed,conditions,icon\",\n",
    "    }\n",
    "    \n",
    "    url = f\"{base_url}/{address}/{two_days_ago}\"\n",
    "    response = requests.get(url, params=params)\n",
    "    \n",
    "    if response.status_code == 200:\n",
    "        return response.json()\n",
    "    else:\n",
    "        print(f\"Error fetching data for {address}: {response.status_code}\")\n",
    "        return None"
   ]
  },
  {
   "cell_type": "markdown",
   "id": "598b866e",
   "metadata": {},
   "source": [
    "The data is then turned into a dataframe for easy visualization."
   ]
  },
  {
   "cell_type": "code",
   "execution_count": 5,
   "id": "abbc6138",
   "metadata": {},
   "outputs": [
    {
     "name": "stdout",
     "output_type": "stream",
     "text": [
      "               City District        Date      Time  Temperature  Humidity  \\\n",
      "0  Ho Chi Minh City   Quan 1  2024-08-17  00:00:00         29.0     74.46   \n",
      "1  Ho Chi Minh City   Quan 1  2024-08-17  01:00:00         27.0     88.83   \n",
      "2  Ho Chi Minh City   Quan 1  2024-08-17  02:00:00         27.0     88.83   \n",
      "3  Ho Chi Minh City   Quan 1  2024-08-17  03:00:00         27.0     88.83   \n",
      "4  Ho Chi Minh City   Quan 1  2024-08-17  04:00:00         28.0     78.91   \n",
      "\n",
      "   Precipitation  WindSpeed        Conditions                 Icon  \\\n",
      "0            0.0        7.6  Partially cloudy  partly-cloudy-night   \n",
      "1            0.0        5.4  Partially cloudy  partly-cloudy-night   \n",
      "2            0.0        5.4          Overcast               cloudy   \n",
      "3            0.0        7.6  Partially cloudy  partly-cloudy-night   \n",
      "4            0.0        3.6  Partially cloudy  partly-cloudy-night   \n",
      "\n",
      "                  Exact Location  \n",
      "0  Quận 1, Hồ Chí Minh, Việt Nam  \n",
      "1  Quận 1, Hồ Chí Minh, Việt Nam  \n",
      "2  Quận 1, Hồ Chí Minh, Việt Nam  \n",
      "3  Quận 1, Hồ Chí Minh, Việt Nam  \n",
      "4  Quận 1, Hồ Chí Minh, Việt Nam  \n"
     ]
    }
   ],
   "source": [
    "# Collect data for all cities and districts\n",
    "all_data = []\n",
    "\n",
    "for city, districts in cities.items():\n",
    "    for district in districts:\n",
    "        weather_data = get_weather_data(city, district)\n",
    "        if weather_data:\n",
    "            for hour_data in weather_data['days'][0]['hours']:\n",
    "                all_data.append({\n",
    "                    'City': city,\n",
    "                    'District': district,\n",
    "                    'Date': weather_data['days'][0]['datetime'],\n",
    "                    'Time': hour_data['datetime'],\n",
    "                    'Temperature': hour_data['temp'],\n",
    "                    'Humidity': hour_data['humidity'],\n",
    "                    'Precipitation': hour_data['precip'],\n",
    "                    'WindSpeed': hour_data['windspeed'],\n",
    "                    'Conditions': hour_data['conditions'],\n",
    "                    'Icon': hour_data['icon'],\n",
    "                    'Exact Location': weather_data['resolvedAddress']\n",
    "                })\n",
    "\n",
    "# Create pandas DataFrame\n",
    "df = pd.DataFrame(all_data)\n",
    "\n",
    "# Display the first few rows of the DataFrame\n",
    "print(df.head())"
   ]
  },
  {
   "cell_type": "code",
   "execution_count": 6,
   "id": "2ad8b966",
   "metadata": {},
   "outputs": [
    {
     "name": "stdout",
     "output_type": "stream",
     "text": [
      "Data collection complete. Results saved to weather_data.csv\n"
     ]
    }
   ],
   "source": [
    "# Save to CSV (optional)\n",
    "df.to_csv('weather_data.csv', index=False)\n",
    "print(\"Data collection complete. Results saved to weather_data.csv\")"
   ]
  }
 ],
 "metadata": {
  "kernelspec": {
   "display_name": "Python 3 (ipykernel)",
   "language": "python",
   "name": "python3"
  },
  "language_info": {
   "codemirror_mode": {
    "name": "ipython",
    "version": 3
   },
   "file_extension": ".py",
   "mimetype": "text/x-python",
   "name": "python",
   "nbconvert_exporter": "python",
   "pygments_lexer": "ipython3",
   "version": "3.9.18"
  }
 },
 "nbformat": 4,
 "nbformat_minor": 5
}
